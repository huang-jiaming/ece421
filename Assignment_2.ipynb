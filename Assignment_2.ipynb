{
  "nbformat": 4,
  "nbformat_minor": 0,
  "metadata": {
    "colab": {
      "name": "Assignment_2",
      "provenance": [],
      "authorship_tag": "ABX9TyNReGsSzHK9/RxTLN2pZcCD",
      "include_colab_link": true
    },
    "kernelspec": {
      "name": "python3",
      "display_name": "Python 3"
    },
    "language_info": {
      "name": "python"
    }
  },
  "cells": [
    {
      "cell_type": "markdown",
      "metadata": {
        "id": "view-in-github",
        "colab_type": "text"
      },
      "source": [
        "<a href=\"https://colab.research.google.com/github/huang-jiaming/ece421/blob/main/Assignment_2.ipynb\" target=\"_parent\"><img src=\"https://colab.research.google.com/assets/colab-badge.svg\" alt=\"Open In Colab\"/></a>"
      ]
    },
    {
      "cell_type": "code",
      "execution_count": 1,
      "metadata": {
        "colab": {
          "base_uri": "https://localhost:8080/"
        },
        "id": "mSA3dJkQQZgl",
        "outputId": "545f3f93-c6ff-419f-f7b2-2a1fe8b85bef"
      },
      "outputs": [
        {
          "output_type": "stream",
          "name": "stdout",
          "text": [
            "Mounted at /content/gdrive\n"
          ]
        }
      ],
      "source": [
        "import tensorflow as tf\n",
        "import numpy as np\n",
        "import matplotlib.pyplot as plt\n",
        "import time\n",
        "import os\n",
        "os.environ['TF_CPP_MIN_LOG_LEVEL'] = '3'\n",
        "\n",
        "from google.colab import drive\n",
        "drive.mount('/content/gdrive', force_remount=True)\n",
        "\n",
        "# Load the data\n",
        "def load_data():\n",
        "    with np.load('/content/gdrive/My Drive/ECE421/Assignment_2/notMNIST.npz') as data:\n",
        "        data, targets = data[\"images\"], data[\"labels\"]\n",
        "        \n",
        "        np.random.seed(521)\n",
        "        rand_idx = np.arange(len(data))\n",
        "        np.random.shuffle(rand_idx)\n",
        "        \n",
        "        data = data[rand_idx] / 255.0\n",
        "        targets = targets[rand_idx].astype(int)\n",
        "        \n",
        "        train_data, train_target = data[:10000], targets[:10000]\n",
        "        valid_data, valid_target = data[10000:16000], targets[10000:16000]\n",
        "        test_data, test_target = data[16000:], targets[16000:]\n",
        "    return train_data, valid_data, test_data, train_target, valid_target, test_target\n",
        "\n",
        "\n",
        "def convert_onehot(train_target, valid_target, test_target):\n",
        "    new_train = np.zeros((train_target.shape[0], 10))\n",
        "    new_valid = np.zeros((valid_target.shape[0], 10))\n",
        "    new_test = np.zeros((test_target.shape[0], 10))\n",
        "\n",
        "    for item in range(0, train_target.shape[0]):\n",
        "        new_train[item][train_target[item]] = 1\n",
        "    for item in range(0, valid_target.shape[0]):\n",
        "        new_valid[item][valid_target[item]] = 1\n",
        "    for item in range(0, test_target.shape[0]):\n",
        "        new_test[item][test_target[item]] = 1\n",
        "    return new_train, new_valid, new_test\n",
        "\n",
        "\n",
        "\n",
        "def shuffle(data, target):\n",
        "    np.random.seed(421)\n",
        "    rand_idx = np.random.permutation(len(data))\n",
        "    return data[rand_idx], target[rand_idx]\n",
        "\n",
        "\n",
        "# Implementation of a neural network using only Numpy - trained using gradient descent with momentum\n",
        "def relu(x):\n",
        "    return np.maximum(x, 0)\n",
        "\n",
        "def softmax(x):\n",
        "    x = x - x.max(axis = 1, keepdims = True) #prevents overflow\n",
        "    return np.exp(x)/(np.exp(x).sum(axis = 1, keepdims = True))\n",
        "\n",
        "def compute_layer(x, w, b):\n",
        "    return np.matmul(x, w) + b\n",
        "\n",
        "def average_ce(target, prediction):\n",
        "    prediction[prediction == 0] = 0.00000000000001 #prevents divide by zero\n",
        "    return -np.sum(np.multiply(target, np.log(prediction))) / target.shape[0]\n",
        "\n",
        "def grad_ce(target, logits):\n",
        "    return (softmax(logits) - target) #prediction - target\n",
        "\n",
        "def backpropagation(prediction, target, o, wh, wo, x, b):\n",
        "    dwo = np.matmul(np.transpose(relu(o)), (prediction - target)/target.shape[0]) #average\n",
        "    ones = np.ones((1, target.shape[0])) #initialize ones\n",
        "    dbo = np.matmul(ones, (prediction - target)/target.shape[0]) #average\n",
        "    o[o >= 0] = 1\n",
        "    o[o < 0] = 0\n",
        "    dwh = np.matmul(np.transpose(x), o * np.matmul((prediction - target)/target.shape[0], np.transpose(wo))) #average\n",
        "    dbh = np.matmul(ones, o * np.matmul((prediction - target)/target.shape[0], np.transpose(wo))) #average\n",
        "    return dwo, dbo, dwh, dbh"
      ]
    },
    {
      "cell_type": "code",
      "source": [
        "def learning():\n",
        "    #data cleaning\n",
        "    train_data, valid_data, test_data, train_target, valid_target, test_target = load_data()\n",
        "    train_data = train_data.reshape(np.shape(train_data)[0], np.shape(train_data)[1]*np.shape(train_data)[2])\n",
        "    valid_data = valid_data.reshape(np.shape(valid_data)[0], np.shape(valid_data)[1]*np.shape(valid_data)[2])\n",
        "    test_data = test_data.reshape(np.shape(test_data)[0], np.shape(test_data)[1]*np.shape(test_data)[2])\n",
        "    new_train, new_valid, new_test = convert_onehot(train_target, valid_target, test_target)\n",
        "\n",
        "    #initializations\n",
        "    epoch = 200\n",
        "    H = 1000\n",
        "    F = train_data.shape[1]\n",
        "    K = 10\n",
        "    gamma = 0.9\n",
        "    alpha = 0.1 #without average use 0.1/target.shape[0] scaling\n",
        "    wo = np.random.normal(0, np.sqrt(2/(H + 10)), (H, 10)) #variance of 2/(units in + units out), zero-mean Gaussians\n",
        "    wh = np.random.normal(0, np.sqrt(2/(F + H)), (F, H))\n",
        "    bo = np.zeros((1, 10)) #bias to zero\n",
        "    bh = np.zeros((1, H))\n",
        "    train_loss, train_acc, valid_loss, valid_acc = ([] for idx in range(4))\n",
        "\n",
        "    vwh = np.full((F, H), 1e-5)\n",
        "    vwo = np.full((H, 10), 1e-5)\n",
        "    vbh = np.full((1, H), 1e-5)\n",
        "    vbo = np.full((1, 10), 1e-5)\n",
        "\n",
        "    for i in range(epoch):\n",
        "        o = compute_layer(train_data, wh, bh)\n",
        "        h = relu(o)\n",
        "        logits = compute_layer(h, wo, bo)\n",
        "        prediction = softmax(logits)\n",
        "        train_loss.append(average_ce(new_train, prediction))\n",
        "        compare = np.equal(np.argmax(prediction, axis = 1), np.argmax(new_train, axis = 1))\n",
        "        train_acc.append(np.sum((compare==True))/(train_data.shape[0]))\n",
        "\n",
        "        #back propagation\n",
        "        dwo, dbo, dwh, dbh = backpropagation(prediction, new_train, o, wh, wo, train_data, bh)\n",
        "\n",
        "        h_valid = relu(compute_layer(valid_data, wh, bh))\n",
        "        logits_valid = compute_layer(h_valid, wo, bo)\n",
        "        prediction_valid = softmax(logits_valid)\n",
        "        valid_loss.append(average_ce(new_valid, prediction_valid))\n",
        "        compare_valid = np.equal(np.argmax(prediction_valid, axis = 1), np.argmax(new_valid, axis = 1))\n",
        "        valid_acc.append(np.sum((compare_valid==True))/(valid_data.shape[0]))\n",
        "\n",
        "        #update rule\n",
        "        vwh = gamma * vwh + alpha * dwh\n",
        "        vwo = gamma * vwo + alpha * dwo\n",
        "        vbh = gamma * vbh + alpha * dbh\n",
        "        vbo = gamma * vbo + alpha * dbo\n",
        "        wo = wo - vwo\n",
        "        wh = wh - vwh\n",
        "        bo = bo - vbo\n",
        "        bh = bh - vbh\n",
        "\n",
        "    plt.title('Training and Validation Loss')  \n",
        "    plt.ylabel('Loss')\n",
        "    plt.xlabel('Epochs')   \n",
        "    plt.plot(range(epoch), train_loss, 'r', range(epoch), valid_loss, 'b')  \n",
        "    plt.legend([\"Training Loss\" ,\"Validation Loss\"], loc = 'best')\n",
        "    plt.show()\n",
        "\n",
        "    plt.title('Training and Validation Accuracy')  \n",
        "    plt.ylabel('Accuracy')\n",
        "    plt.xlabel('Epochs')   \n",
        "    plt.plot(range(epoch), train_acc, 'r', range(epoch), valid_acc, 'b')  \n",
        "    plt.legend([\"Training Accuracy\" ,\"Validation Accuracy\"], loc = 'best')\n",
        "    plt.show()\n",
        "\n",
        "    print(\"Final Training Accuracy: \", train_acc[199])\n",
        "    print(\"Final Validation Accuracy: \", valid_acc[199])\n"
      ],
      "metadata": {
        "id": "8IoJv_jhsFUR"
      },
      "execution_count": 4,
      "outputs": []
    },
    {
      "cell_type": "code",
      "source": [
        "learning()"
      ],
      "metadata": {
        "colab": {
          "base_uri": "https://localhost:8080/",
          "height": 608
        },
        "id": "RIbdCSsntQww",
        "outputId": "e4f4199a-a503-4ede-e3ad-5a4afa91c49b"
      },
      "execution_count": 5,
      "outputs": [
        {
          "output_type": "display_data",
          "data": {
            "image/png": "[encoded data removed]",
            "text/plain": [
              "<Figure size 432x288 with 1 Axes>"
            ]
          },
          "metadata": {
            "needs_background": "light"
          }
        },
        {
          "output_type": "display_data",
          "data": {
            "image/png": "[encoded data removed]",
            "text/plain": [
              "<Figure size 432x288 with 1 Axes>"
            ]
          },
          "metadata": {
            "needs_background": "light"
          }
        },
        {
          "output_type": "stream",
          "name": "stdout",
          "text": [
            "Final Training Accuracy:  0.9768\n",
            "Final Validation Accuracy:  0.9128333333333334\n"
          ]
        }
      ]
    }
  ]
}